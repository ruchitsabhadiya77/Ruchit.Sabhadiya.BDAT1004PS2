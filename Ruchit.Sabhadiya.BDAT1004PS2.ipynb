{
 "cells": [
  {
   "cell_type": "markdown",
   "id": "f05c8af2",
   "metadata": {},
   "source": [
    "# Question 1\n",
    "Consider the following Python module:\n",
    "a = 0\n",
    "def b():\n",
    " global a\n",
    " a = c(a)\n",
    "def c(a):\n",
    " return a + 2\n",
    "After importing the module into the interpreter, you execute:\n",
    ">>> b()\n",
    ">>> b()\n",
    ">>> b()\n",
    ">>> a\n",
    "?\n",
    "What value is displayed when the last expression (a) is evaluated? Explain your\n",
    "answer by indicating what happens in every executed statement."
   ]
  },
  {
   "cell_type": "markdown",
   "id": "08c2219e",
   "metadata": {},
   "source": [
    "1. a = 0 #Global variable\n",
    "2. def b():\n",
    "3.  global a  #Global variable\n",
    "4.  a = c(a) #calls local method c\n",
    "5. def c(a):\n",
    "6.  return a + 2 #returns Global variable + c\n",
    " \n",
    "When last expression a is evaludated, 6 is displayed.\n",
    "\n",
    "execution will start from line 1 where value of a is defined as 0.\n",
    "When method b() is executed where a is global and it's value will be 0 and in the same method, method c is also called.\n",
    "Hence, method c(a) will be executed and returned value (value will be 2) will be stored in variable a as mentioned in method b (line #4).\n",
    "So when first b() is executed, value of 'a' will be 2.\n",
    "when second time b() is executed value of 'a' will be 4.\n",
    "when third time b() is executed value of 'a' will be 6.\n",
    "Therefore, When a is evaluated 6 will be displayed."
   ]
  },
  {
   "cell_type": "markdown",
   "id": "7b283ecc",
   "metadata": {},
   "source": [
    "# Question 2\n",
    "Function fileLength(), given to you, takes the name of a file as input and returns\n",
    "the length of the file:\n",
    ">>> fileLength('midterm.py')\n",
    "284\n",
    ">>> fileLength('idterm.py')\n",
    "Traceback (most recent call last):\n",
    "File \"<pyshell#34>\", line 1, in <module>\n",
    " fileLength('idterm.py')\n",
    "File \"/Users/me/midterm.py\", line 3, in fileLength\n",
    " infile = open(filename)\n",
    "FileNotFoundError: [Errno 2] No such file or directory:\n",
    "'idterm.py'\n",
    "As shown above, if the file cannot be found by the interpreter or if it cannot be read\n",
    "as a text file, an exception will be raised. Modify function fileLength() so that a\n",
    "friendly message is printed instead:\n",
    ">>> fileLength('midterm.py')\n",
    "358\n",
    ">>> fileLength('idterm.py')\n",
    "File idterm.py not found."
   ]
  },
  {
   "cell_type": "code",
   "execution_count": 1,
   "id": "2ded3895",
   "metadata": {},
   "outputs": [
    {
     "name": "stdout",
     "output_type": "stream",
     "text": [
      "245\n"
     ]
    }
   ],
   "source": [
    "def file_length(file_name):\n",
    "    try:\n",
    "        file = open(file_name)\n",
    "        contents = file.read()\n",
    "        file.close()\n",
    "        print(len(contents))\n",
    "    except:\n",
    "        print (\"File {} not found\".format(file_name))\n",
    "    \n",
    "file_length('midterm.py')"
   ]
  },
  {
   "cell_type": "code",
   "execution_count": 2,
   "id": "c6c95555",
   "metadata": {},
   "outputs": [
    {
     "name": "stdout",
     "output_type": "stream",
     "text": [
      "File idterm.py not found\n"
     ]
    }
   ],
   "source": [
    "file_length('idterm.py')"
   ]
  },
  {
   "cell_type": "markdown",
   "id": "1fce36a0",
   "metadata": {},
   "source": [
    "# Question 3\n",
    "Write a class named Marsupial that can be used as shown below:\n",
    ">>> m = Marsupial()\n",
    ">>> m.put_in_pouch('doll')\n",
    ">>> m.put_in_pouch('firetruck')\n",
    ">>> m.put_in_pouch('kitten')\n",
    ">>> m.pouch_contents()\n",
    "['doll', 'firetruck', 'kitten']\n",
    "Now write a class named Kangaroo as a subclass of Marsupial that inherits all the\n",
    "attributes of Marsupial and also:\n",
    "a. extends the Marsupial __init__ constructor to take, as input, the\n",
    "coordinates x and y of the Kangaroo object,\n",
    "b. supports method jump that takes number values dx and dy as input and\n",
    "moves the kangaroo by dx units along the x-axis and by dy units along the yaxis, and\n",
    "c. overloads the __str__ operator so it behaves as shown below.\n",
    ">>> k = Kangaroo(0,0)\n",
    ">>> print(k)\n",
    "I am a Kangaroo located at coordinates (0,0)\n",
    ">>> k.put_in_pouch('doll')\n",
    ">>> k.put_in_pouch('firetruck')\n",
    ">>> k.put_in_pouch('kitten')\n",
    ">>> k.pouch_contents()\n",
    "['doll', 'firetruck', 'kitten']\n",
    ">>> k.jump(1,0)\n",
    ">>> k.jump(1,0)\n",
    ">>> k.jump(1,0)\n",
    ">>> print(k)\n",
    "I am a Kangaroo located at coordinates (3,0)"
   ]
  },
  {
   "cell_type": "code",
   "execution_count": 3,
   "id": "17d73a0c",
   "metadata": {},
   "outputs": [],
   "source": [
    "class Marsupial:\n",
    "    t = []\n",
    "    def __init__(self):\n",
    "        self = []\n",
    "    def put_in_pouch(self,toy):\n",
    "        if toy not in self.t:\n",
    "            self.t.append(toy)\n",
    "        else:\n",
    "            return\n",
    "    def pouch_contents(self):\n",
    "        return (self.t)"
   ]
  },
  {
   "cell_type": "code",
   "execution_count": 4,
   "id": "30d402fb",
   "metadata": {},
   "outputs": [
    {
     "data": {
      "text/plain": [
       "['doll', 'firetruck', 'kitten']"
      ]
     },
     "execution_count": 4,
     "metadata": {},
     "output_type": "execute_result"
    }
   ],
   "source": [
    "m = Marsupial()\n",
    "m.put_in_pouch('doll')\n",
    "m.put_in_pouch('firetruck')\n",
    "m.put_in_pouch('kitten')\n",
    "m.pouch_contents()"
   ]
  },
  {
   "cell_type": "code",
   "execution_count": 5,
   "id": "b3c9067a",
   "metadata": {},
   "outputs": [],
   "source": [
    "class Kangaroo(Marsupial):\n",
    "    def __init__(self, xcoord=0, ycoord=0):\n",
    "        self.x = xcoord\n",
    "        self.y = ycoord\n",
    "        \n",
    "    \n",
    "    def setx(self, xcoord):\n",
    "        \n",
    "        self.x = xcoord\n",
    "        \n",
    "    def sety(self, ycoord):\n",
    "        \n",
    "        self.y = ycoord\n",
    "    \n",
    "    def get(self):\n",
    "        \n",
    "        return (self.x, self.y)\n",
    "    \n",
    "    def jump(self, dx, dy):\n",
    "        \n",
    "        self.x += dx\n",
    "        self.y += dy\n",
    "\n",
    "    def __str__(self):\n",
    "        \n",
    "        return 'I am a Kangaroo located at coordinates ({}, {})'.format(self.x, self.y)"
   ]
  },
  {
   "cell_type": "code",
   "execution_count": 6,
   "id": "d56366a1",
   "metadata": {},
   "outputs": [
    {
     "name": "stdout",
     "output_type": "stream",
     "text": [
      "I am a Kangaroo located at coordinates (0, 0)\n"
     ]
    }
   ],
   "source": [
    "k = Kangaroo(0,0)\n",
    "print(k)"
   ]
  },
  {
   "cell_type": "code",
   "execution_count": 7,
   "id": "9150534c",
   "metadata": {},
   "outputs": [
    {
     "data": {
      "text/plain": [
       "['doll', 'firetruck', 'kitten']"
      ]
     },
     "execution_count": 7,
     "metadata": {},
     "output_type": "execute_result"
    }
   ],
   "source": [
    "m.put_in_pouch('doll')\n",
    "m.put_in_pouch('firetruck')\n",
    "m.put_in_pouch('kitten')\n",
    "k.pouch_contents()"
   ]
  },
  {
   "cell_type": "code",
   "execution_count": 8,
   "id": "00bb00d0",
   "metadata": {},
   "outputs": [],
   "source": [
    "k.jump(1,0)\n",
    "k.jump(1,0)\n",
    "k.jump(1,0)"
   ]
  },
  {
   "cell_type": "code",
   "execution_count": 9,
   "id": "4a9b38da",
   "metadata": {},
   "outputs": [
    {
     "name": "stdout",
     "output_type": "stream",
     "text": [
      "I am a Kangaroo located at coordinates (3, 0)\n"
     ]
    }
   ],
   "source": [
    "print(k)"
   ]
  },
  {
   "cell_type": "markdown",
   "id": "e785054c",
   "metadata": {},
   "source": [
    "# Question 4\n",
    "Write function collatz() that takes a positive integer x as input and prints the\n",
    "Collatz sequence starting at x. A Collatz sequence is obtained by repeatedly applying\n",
    "this rule to the previous number x in the sequence:\n",
    "x = {\n",
    "𝑥/2 𝑖𝑓 𝑥 𝑖𝑠 𝑒𝑣𝑒𝑛\n",
    "3𝑥 + 1 𝑖𝑓 𝑥 𝑖𝑠 𝑜𝑑𝑑\n",
    "Your function should stop when the sequence gets to number 1. Your\n",
    "implementation must be recursive, without any loops.\n",
    ">>> collatz(1)\n",
    "1\n",
    ">>> collatz(10)\n",
    "10\n",
    "5\n",
    "16\n",
    "8\n",
    "4\n",
    "2\n",
    "1"
   ]
  },
  {
   "cell_type": "code",
   "execution_count": 10,
   "id": "ab035c37",
   "metadata": {},
   "outputs": [],
   "source": [
    "def collatz(x):\n",
    "    print(x)\n",
    "    if (x == 1):\n",
    "        return x\n",
    "    if (x%2==0):\n",
    "        return (collatz(x//2))            \n",
    "    else:\n",
    "        return(collatz((3*x)+1))"
   ]
  },
  {
   "cell_type": "code",
   "execution_count": 11,
   "id": "8087f12e",
   "metadata": {},
   "outputs": [
    {
     "name": "stdout",
     "output_type": "stream",
     "text": [
      "1\n"
     ]
    },
    {
     "data": {
      "text/plain": [
       "1"
      ]
     },
     "execution_count": 11,
     "metadata": {},
     "output_type": "execute_result"
    }
   ],
   "source": [
    "collatz(1)"
   ]
  },
  {
   "cell_type": "code",
   "execution_count": 12,
   "id": "cdaa6c25",
   "metadata": {},
   "outputs": [
    {
     "name": "stdout",
     "output_type": "stream",
     "text": [
      "10\n",
      "5\n",
      "16\n",
      "8\n",
      "4\n",
      "2\n",
      "1\n"
     ]
    },
    {
     "data": {
      "text/plain": [
       "1"
      ]
     },
     "execution_count": 12,
     "metadata": {},
     "output_type": "execute_result"
    }
   ],
   "source": [
    "collatz(10)"
   ]
  },
  {
   "cell_type": "markdown",
   "id": "9685c7fa",
   "metadata": {},
   "source": [
    "# Question 5\n",
    "Write a recursive method binary() that takes a non-negative\n",
    "integer n and prints the binary representation of integer n.\n",
    ">>> binary(0)\n",
    "0\n",
    ">>> binary(1)\n",
    "1\n",
    ">>> binary(3)\n",
    "11\n",
    ">>> binary(9)\n",
    "1001"
   ]
  },
  {
   "cell_type": "code",
   "execution_count": 16,
   "id": "4818f06f",
   "metadata": {},
   "outputs": [],
   "source": [
    "s ='' \n",
    "def binary(x):\n",
    "    global s\n",
    "    s = (str(x%2)+s)  \n",
    "    if (x>1):\n",
    "        return binary(x//2)\n",
    "    print (s)\n",
    "    s=''"
   ]
  },
  {
   "cell_type": "code",
   "execution_count": 17,
   "id": "bdfd7677",
   "metadata": {},
   "outputs": [
    {
     "name": "stdout",
     "output_type": "stream",
     "text": [
      "0\n"
     ]
    }
   ],
   "source": [
    "binary(0)"
   ]
  },
  {
   "cell_type": "code",
   "execution_count": 19,
   "id": "7e0456b3",
   "metadata": {},
   "outputs": [
    {
     "name": "stdout",
     "output_type": "stream",
     "text": [
      "1\n"
     ]
    }
   ],
   "source": [
    "binary(1)"
   ]
  },
  {
   "cell_type": "code",
   "execution_count": 20,
   "id": "c3fc6eaf",
   "metadata": {},
   "outputs": [
    {
     "name": "stdout",
     "output_type": "stream",
     "text": [
      "11\n"
     ]
    }
   ],
   "source": [
    "binary(3)"
   ]
  },
  {
   "cell_type": "code",
   "execution_count": 21,
   "id": "3dec6537",
   "metadata": {},
   "outputs": [
    {
     "name": "stdout",
     "output_type": "stream",
     "text": [
      "1001\n"
     ]
    }
   ],
   "source": [
    "binary(9)"
   ]
  },
  {
   "cell_type": "markdown",
   "id": "621534bf",
   "metadata": {},
   "source": [
    "# Question 6\n",
    "Implement a class named HeadingParser that can be used to parse an HTML\n",
    "document, and retrieve and print all the headings in the document. You should\n",
    "implement your class as a subclass of HTMLParser, defined in Standard Library\n",
    "module html.parser. When fed a string containing HTML code, your class should\n",
    "print the headings, one per line and in the order in which they appear in the\n",
    "document. Each heading should be indented as follows: an h1 heading should have\n",
    "indentation 0, and h2 heading should have indentation 1, etc. Test your\n",
    "implementation using w3c.html.\n",
    ">>> infile = open('w3c.html')\n",
    ">>> content = infile.read()\n",
    ">>> infile.close()\n",
    ">>> hp = HeadingParser()\n",
    ">>> hp.feed(content)\n",
    "W3C Mission\n",
    "Principles"
   ]
  },
  {
   "cell_type": "code",
   "execution_count": 2,
   "id": "75c1a577",
   "metadata": {},
   "outputs": [
    {
     "name": "stdout",
     "output_type": "stream",
     "text": [
      "W3C Mission\n",
      "\tPrinciples\n"
     ]
    }
   ],
   "source": [
    "from html.parser import HTMLParser\n",
    "\n",
    "class HeadingParser(HTMLParser):\n",
    "    a = ''\n",
    "    def handle_starttag(self, tag, attrs):\n",
    "        if tag == 'h1':\n",
    "            self.a = 'h1'\n",
    "        if tag == 'h2':\n",
    "            self.a = 'h2'\n",
    "            \n",
    "    def handle_data(self, data):\n",
    "        if self.a == 'h1':\n",
    "            print(data)\n",
    "        if self.a == 'h2':\n",
    "            print('\\t'+data)\n",
    "      \n",
    "    def handle_endtag(self, tag):\n",
    "         if tag =='h1' or tag == 'h2':\n",
    "            self.a = ''\n",
    "\n",
    "infile = open('w3c.html') \n",
    "content = infile.read() \n",
    "infile.close() \n",
    "hp = HeadingParser()\n",
    "hp.feed(content) "
   ]
  },
  {
   "cell_type": "markdown",
   "id": "6c862207",
   "metadata": {},
   "source": [
    "# Question 7\n",
    "Implement recursive function webdir() that takes as input: a URL (as a string) and\n",
    "non-negative integers depth and indent. Your function should visit every web\n",
    "page reachable from the starting URL web page in depth clicks or less, and print\n",
    "each web page's URL. As shown below, indentation, specified by indent, should\n",
    "be used to indicate the depth of a URL.\n",
    "\n",
    "webdir('http://reed.cs.depaul.edu/lperkovic/test1.html', 2, 0)\n",
    "http://reed.cs.depaul.edu/lperkovic/test1.html\n",
    "http://reed.cs.depaul.edu/lperkovic/test2.html\n",
    "http://reed.cs.depaul.edu/lperkovic/test4.html\n",
    "http://reed.cs.depaul.edu/lperkovic/test3.html\n",
    "http://reed.cs.depaul.edu/lperkovic/test4.html"
   ]
  },
  {
   "cell_type": "code",
   "execution_count": 2,
   "id": "eaa49c95",
   "metadata": {},
   "outputs": [
    {
     "name": "stdout",
     "output_type": "stream",
     "text": [
      "http://reed.cs.depaul.edu/lperkovic/test1.html\n",
      "\thttp://reed.cs.depaul.edu/lperkovic/test2.html\n",
      "\t\thttp://reed.cs.depaul.edu/lperkovic/test4.html\n",
      "\thttp://reed.cs.depaul.edu/lperkovic/test3.html\n",
      "\t\thttp://reed.cs.depaul.edu/lperkovic/test4.html\n"
     ]
    }
   ],
   "source": [
    "from urllib.request import urlopen\n",
    "from urllib.parse import urljoin\n",
    "from html.parser import HTMLParser\n",
    "\n",
    "class Collector(HTMLParser):\n",
    "    def __init__(self, url):\n",
    "        HTMLParser.__init__(self)\n",
    "        self.url = url\n",
    "        self.links = []    \n",
    "    def handle_starttag(self, tag, attrs):\n",
    "        if tag == 'a':\n",
    "            for attr in attrs:\n",
    "                if attr[0] == 'href':\n",
    "                    # construct absolute URL\n",
    "                    absolute = urljoin(self.url, attr[1])\n",
    "                    if absolute[:4] == 'http': \n",
    "                        self.links.append(absolute)        \n",
    "    def getLinks(self):\n",
    "        return self.links\n",
    "\n",
    "def webdir(url, depth, indent):\n",
    "    #for obtain links in the web page\n",
    "    content = urlopen(url).read().decode()\n",
    "    collector = Collector(url)\n",
    "    collector.feed(content)\n",
    "    urls = collector.getLinks()  \n",
    "    #to print the http links found in web page\n",
    "    print(\"\\t\"*indent+\"{}\".format(url))\n",
    "    for link in urls:        \n",
    "        webdir(link,depth-1,indent+1)  \n",
    "\n",
    "webdir('http://reed.cs.depaul.edu/lperkovic/test1.html', 2, 0)"
   ]
  },
  {
   "cell_type": "markdown",
   "id": "76bafc90",
   "metadata": {},
   "source": [
    "# Question 8\n",
    "Write SQL queries on the below database table that return:\n",
    "a) All the temperature data.\n",
    "b) All the cities, but without repetition.\n",
    "c) All the records for India.\n",
    "d) All the Fall records.\n",
    "e) The city, country, and season for which the average rainfall is between 200\n",
    "and 400 millimeters.\n",
    "f) The city and country for which the average Fall temperature is above 20\n",
    "degrees, in increasing temperature order.\n",
    "g) The total annual rainfall for Cairo.\n",
    "h) The total rainfall for each season"
   ]
  },
  {
   "cell_type": "code",
   "execution_count": 1,
   "id": "3f82608b",
   "metadata": {},
   "outputs": [],
   "source": [
    "import sqlite3\n",
    "\n",
    "db1 = sqlite3.connect(\"Env.db\")\n",
    "cur = db1.cursor()\n",
    "cur.execute(\"Create Table Weather (City text, Country text, Season text, Temperature float, Rainfall float)\")\n",
    "cur.execute(\"Insert into Weather (City, Country, Season,Temperature,Rainfall) values ('Mumbai','India','Winter',24.8,5.9),('Mumbai','India','Spring',28.4,16.2),('Mumbai','India','Summer',27.9,1549.4),('Mumbai','India','Fall',27.6,346),('London','United Kingdom','Winter',4.2,207.7),('London','United Kingdom','Spring',8.3,169.6),('London','United Kingdom','Summer',15.7,157),('London','United Kingdom','Fall',10.4,218.5),('Cairo','Egypt','Winter',13.6,16.5),('Cairo','Egypt','Spring',20.7,6.5),('Cairo','Egypt','Summer',27.7,0.1),('Cairo','Egypt','Fall',22.2,4.5)\")\n",
    "db1.commit()"
   ]
  },
  {
   "cell_type": "code",
   "execution_count": 2,
   "id": "dec52550",
   "metadata": {},
   "outputs": [
    {
     "data": {
      "text/plain": [
       "[(24.8,),\n",
       " (28.4,),\n",
       " (27.9,),\n",
       " (27.6,),\n",
       " (4.2,),\n",
       " (8.3,),\n",
       " (15.7,),\n",
       " (10.4,),\n",
       " (13.6,),\n",
       " (20.7,),\n",
       " (27.7,),\n",
       " (22.2,)]"
      ]
     },
     "execution_count": 2,
     "metadata": {},
     "output_type": "execute_result"
    }
   ],
   "source": [
    "#a. All the temperature data\n",
    "cur.execute(\"select Temperature from Weather\")\n",
    "cur.fetchall()"
   ]
  },
  {
   "cell_type": "code",
   "execution_count": 3,
   "id": "e297399a",
   "metadata": {},
   "outputs": [
    {
     "data": {
      "text/plain": [
       "[('Mumbai',), ('London',), ('Cairo',)]"
      ]
     },
     "execution_count": 3,
     "metadata": {},
     "output_type": "execute_result"
    }
   ],
   "source": [
    "#b. All the cities, but without repetition\n",
    "cur.execute(\"select distinct City from Weather\")\n",
    "cur.fetchall()"
   ]
  },
  {
   "cell_type": "code",
   "execution_count": 4,
   "id": "7234f75c",
   "metadata": {},
   "outputs": [
    {
     "data": {
      "text/plain": [
       "[('Mumbai', 'India', 'Winter', 24.8, 5.9),\n",
       " ('Mumbai', 'India', 'Spring', 28.4, 16.2),\n",
       " ('Mumbai', 'India', 'Summer', 27.9, 1549.4),\n",
       " ('Mumbai', 'India', 'Fall', 27.6, 346.0)]"
      ]
     },
     "execution_count": 4,
     "metadata": {},
     "output_type": "execute_result"
    }
   ],
   "source": [
    "#c. All the records for India\n",
    "cur.execute(\"select * from Weather where  Country = 'India'\")\n",
    "cur.fetchall()"
   ]
  },
  {
   "cell_type": "code",
   "execution_count": 5,
   "id": "05fa791f",
   "metadata": {},
   "outputs": [
    {
     "data": {
      "text/plain": [
       "[('Mumbai', 'India', 'Fall', 27.6, 346.0),\n",
       " ('London', 'United Kingdom', 'Fall', 10.4, 218.5),\n",
       " ('Cairo', 'Egypt', 'Fall', 22.2, 4.5)]"
      ]
     },
     "execution_count": 5,
     "metadata": {},
     "output_type": "execute_result"
    }
   ],
   "source": [
    "#d. All the Fall records\n",
    "cur.execute(\"select * from Weather where Season = 'Fall'\")\n",
    "cur.fetchall()"
   ]
  },
  {
   "cell_type": "code",
   "execution_count": 6,
   "id": "009dfe5c",
   "metadata": {},
   "outputs": [
    {
     "data": {
      "text/plain": [
       "[('Mumbai', 'India', 'Fall'),\n",
       " ('London', 'United Kingdom', 'Winter'),\n",
       " ('London', 'United Kingdom', 'Fall')]"
      ]
     },
     "execution_count": 6,
     "metadata": {},
     "output_type": "execute_result"
    }
   ],
   "source": [
    "#e. The city, country, and season for which the average rainfall is between 200and 400 millimeters\n",
    "cur.execute(\"select City, Country, Season from Weather where Rainfall between 200 and 400 \")\n",
    "cur.fetchall()"
   ]
  },
  {
   "cell_type": "code",
   "execution_count": 7,
   "id": "802fb083",
   "metadata": {},
   "outputs": [
    {
     "data": {
      "text/plain": [
       "[('Cairo', 'Egypt'), ('Mumbai', 'India')]"
      ]
     },
     "execution_count": 7,
     "metadata": {},
     "output_type": "execute_result"
    }
   ],
   "source": [
    "#f. The city and country for which the average Fall temperature is above 20degrees, in increasing temperature order.\n",
    "cur.execute(\"select City,Country from Weather where Season ='Fall' and Temperature>20 order by Temperature \")\n",
    "cur.fetchall()"
   ]
  },
  {
   "cell_type": "code",
   "execution_count": 8,
   "id": "df7a9280",
   "metadata": {},
   "outputs": [
    {
     "data": {
      "text/plain": [
       "[(27.6,)]"
      ]
     },
     "execution_count": 8,
     "metadata": {},
     "output_type": "execute_result"
    }
   ],
   "source": [
    "#g. The total annual rainfall for Cairo\n",
    "cur.execute(\"select sum(Rainfall) from Weather where City = 'Cairo'\")\n",
    "cur.fetchall()"
   ]
  },
  {
   "cell_type": "code",
   "execution_count": 9,
   "id": "54dc2fb4",
   "metadata": {},
   "outputs": [
    {
     "data": {
      "text/plain": [
       "[('Fall', 569.0),\n",
       " ('Spring', 192.29999999999998),\n",
       " ('Summer', 1706.5),\n",
       " ('Winter', 230.1)]"
      ]
     },
     "execution_count": 9,
     "metadata": {},
     "output_type": "execute_result"
    }
   ],
   "source": [
    "#h. The total rainfall for each season\n",
    "cur.execute(\"select Season,sum(Rainfall) from Weather group by Season\")\n",
    "cur.fetchall()"
   ]
  },
  {
   "cell_type": "markdown",
   "id": "2ad9caa0",
   "metadata": {},
   "source": [
    "# Question 9\n",
    ". Suppose list words is defined as follows:\n",
    ">>> words = ['The', 'quick', 'brown', 'fox', 'jumps', 'over','the', 'lazy', 'dog']\n",
    "Write list comprehension expressions that use list words and generate the following lists:"
   ]
  },
  {
   "cell_type": "code",
   "execution_count": 10,
   "id": "901ac4e8",
   "metadata": {},
   "outputs": [],
   "source": [
    "words = ['The', 'quick', 'brown', 'fox', 'jumps', 'over','the', 'lazy', 'dog']"
   ]
  },
  {
   "cell_type": "code",
   "execution_count": 11,
   "id": "9d9bdaec",
   "metadata": {},
   "outputs": [
    {
     "data": {
      "text/plain": [
       "['THE', 'QUICK', 'BROWN', 'FOX', 'JUMPS', 'OVER', 'THE', 'LAZY', 'DOG']"
      ]
     },
     "execution_count": 11,
     "metadata": {},
     "output_type": "execute_result"
    }
   ],
   "source": [
    "#a\n",
    "newwords = [word.upper() for word in words]\n",
    "newwords"
   ]
  },
  {
   "cell_type": "code",
   "execution_count": 12,
   "id": "04ab1a40",
   "metadata": {},
   "outputs": [
    {
     "data": {
      "text/plain": [
       "['the', 'quick', 'brown', 'fox', 'jumps', 'over', 'the', 'lazy', 'dog']"
      ]
     },
     "execution_count": 12,
     "metadata": {},
     "output_type": "execute_result"
    }
   ],
   "source": [
    "#b\n",
    "newwords = [word.lower() for word in words]\n",
    "newwords"
   ]
  },
  {
   "cell_type": "code",
   "execution_count": 13,
   "id": "99d24a14",
   "metadata": {},
   "outputs": [
    {
     "data": {
      "text/plain": [
       "[3, 5, 5, 3, 5, 4, 3, 4, 3]"
      ]
     },
     "execution_count": 13,
     "metadata": {},
     "output_type": "execute_result"
    }
   ],
   "source": [
    "#c\n",
    "newwords = [len(word) for word in words]\n",
    "newwords"
   ]
  },
  {
   "cell_type": "code",
   "execution_count": 14,
   "id": "ee3ae2ab",
   "metadata": {},
   "outputs": [
    {
     "data": {
      "text/plain": [
       "[['THE', 'the', 3],\n",
       " ['QUICK', 'quick', 5],\n",
       " ['BROWN', 'brown', 5],\n",
       " ['FOX', 'fox', 3],\n",
       " ['JUMPS', 'jumps', 5],\n",
       " ['OVER', 'over', 4],\n",
       " ['THE', 'the', 3],\n",
       " ['LAZY', 'lazy', 4],\n",
       " ['DOG', 'dog', 3]]"
      ]
     },
     "execution_count": 14,
     "metadata": {},
     "output_type": "execute_result"
    }
   ],
   "source": [
    "#d\n",
    "newwords = [[word.upper(),word.lower(),len(word)] for word in words]\n",
    "newwords"
   ]
  },
  {
   "cell_type": "code",
   "execution_count": 15,
   "id": "871497bc",
   "metadata": {},
   "outputs": [
    {
     "data": {
      "text/plain": [
       "['quick', 'brown', 'jumps', 'over', 'lazy']"
      ]
     },
     "execution_count": 15,
     "metadata": {},
     "output_type": "execute_result"
    }
   ],
   "source": [
    "#e\n",
    "newwords = [word for word in words if len(word)>3]\n",
    "newwords"
   ]
  },
  {
   "cell_type": "code",
   "execution_count": null,
   "id": "26fba7fd",
   "metadata": {},
   "outputs": [],
   "source": []
  }
 ],
 "metadata": {
  "kernelspec": {
   "display_name": "Python 3 (ipykernel)",
   "language": "python",
   "name": "python3"
  },
  "language_info": {
   "codemirror_mode": {
    "name": "ipython",
    "version": 3
   },
   "file_extension": ".py",
   "mimetype": "text/x-python",
   "name": "python",
   "nbconvert_exporter": "python",
   "pygments_lexer": "ipython3",
   "version": "3.9.7"
  }
 },
 "nbformat": 4,
 "nbformat_minor": 5
}
